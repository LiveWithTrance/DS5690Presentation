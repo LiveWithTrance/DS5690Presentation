{
 "cells": [
  {
   "cell_type": "code",
   "execution_count": null,
   "metadata": {},
   "outputs": [],
   "source": []
  },
  {
   "cell_type": "markdown",
   "metadata": {},
   "source": [
    "## For installing dependencies:"
   ]
  },
  {
   "cell_type": "code",
   "execution_count": null,
   "metadata": {},
   "outputs": [],
   "source": [
    "pip install -r requirements.txt"
   ]
  },
  {
   "cell_type": "markdown",
   "metadata": {},
   "source": [
    "## Code Demonstration"
   ]
  },
  {
   "cell_type": "code",
   "execution_count": null,
   "metadata": {},
   "outputs": [],
   "source": [
    "import torch\n",
    "from transformers import AutoModelForCausalLM, AutoTokenizer\n",
    "from transformers.generation.utils import GenerationConfig\n",
    "tokenizer = AutoTokenizer.from_pretrained(\"baichuan-inc/Baichuan2-13B-Chat\", use_fast=False, trust_remote_code=True)\n",
    "model = AutoModelForCausalLM.from_pretrained(\"baichuan-inc/Baichuan2-13B-Chat\", device_map=\"auto\", torch_dtype=torch.bfloat16, trust_remote_code=True)\n",
    "model.generation_config = GenerationConfig.from_pretrained(\"baichuan-inc/Baichuan2-13B-Chat\")\n",
    "messages = []\n",
    "messages.append({\"role\": \"user\", \"content\": \"解释一下“温故而知新”\"})\n",
    "response = model.chat(tokenizer, messages)\n",
    "print(response)\n"
   ]
  },
  {
   "cell_type": "markdown",
   "metadata": {},
   "source": [
    "## Python code for Base model inference:\n"
   ]
  },
  {
   "cell_type": "code",
   "execution_count": null,
   "metadata": {},
   "outputs": [],
   "source": [
    "from transformers import AutoModelForCausalLM, AutoTokenizer\n",
    "\n",
    "tokenizer = AutoTokenizer.from_pretrained(\"baichuan-inc/Baichuan2-13B-Base\", trust_remote_code=True)\n",
    "model = AutoModelForCausalLM.from_pretrained(\"baichuan-inc/Baichuan2-13B-Base\", device_map=\"auto\", trust_remote_code=True)\n",
    "\n",
    "inputs = tokenizer('Climbing the Stork Tower->Wang Zhihuan\\n A Night Rain Sent North->', return_tensors='pt')\n",
    "inputs = inputs.to('cuda:0')\n",
    "pred = model.generate(**inputs, max_new_tokens=64, repetition_penalty=1.1)\n",
    "\n",
    "print(tokenizer.decode(pred.cpu()[0], skip_special_tokens=True))\n"
   ]
  },
  {
   "cell_type": "markdown",
   "metadata": {},
   "source": [
    "The model is loaded specifying device_map='auto' to use all available GPUs. If you need to specify the devices to use, you can control this with an approach like export CUDA_VISIBLE_DEVICES=0,1 to use GPUs 0 and 1."
   ]
  },
  {
   "cell_type": "markdown",
   "metadata": {},
   "source": [
    "## For the command line tool:"
   ]
  },
  {
   "cell_type": "code",
   "execution_count": null,
   "metadata": {},
   "outputs": [],
   "source": [
    "python cli_demo.py\n"
   ]
  },
  {
   "cell_type": "markdown",
   "metadata": {},
   "source": [
    "This command line tool is designed for the Chat scenario, so using this tool with the Base model is not supported."
   ]
  },
  {
   "cell_type": "markdown",
   "metadata": {},
   "source": [
    "## For the web demo:"
   ]
  },
  {
   "cell_type": "code",
   "execution_count": null,
   "metadata": {},
   "outputs": [],
   "source": [
    "streamlit run web_demo.py\n"
   ]
  },
  {
   "cell_type": "markdown",
   "metadata": {},
   "source": [
    "Running the above command with Streamlit will start a local web service. Enter the address provided by the console into a browser to access it. This web demo tool is designed for the Chat scenario, so it does not support calling the Base model."
   ]
  },
  {
   "cell_type": "markdown",
   "metadata": {},
   "source": [
    "## Model Fine-tuning"
   ]
  },
  {
   "cell_type": "markdown",
   "metadata": {},
   "source": [
    "### Dependency Installation"
   ]
  },
  {
   "cell_type": "code",
   "execution_count": null,
   "metadata": {},
   "outputs": [],
   "source": [
    "git clone https://github.com/baichuan-inc/Baichuan2.git\n",
    "cd Baichuan2/fine-tune\n",
    "pip install -r requirements.txt\n"
   ]
  },
  {
   "cell_type": "markdown",
   "metadata": {},
   "source": [
    "For lightweight fine-tuning methods like LoRA, additional installation is required from [peft].\n",
    "For training acceleration using xFormers, additional installation is required from [xFormers]."
   ]
  },
  {
   "cell_type": "markdown",
   "metadata": {},
   "source": [
    "### Single Machine Training"
   ]
  },
  {
   "cell_type": "markdown",
   "metadata": {},
   "source": [
    "Here is an example of fine-tuning Baichuan2-7B-Base on a single machine:\n",
    "\n",
    "Training data: data/belle_chat_ramdon_10k.json, this sample data is drawn from 10,000 entries and format-transformed from [multiturn_chat_0.8M] on huggingface.co. This is mainly to show how to train on multi-turn data, the effect is not guaranteed."
   ]
  },
  {
   "cell_type": "code",
   "execution_count": null,
   "metadata": {},
   "outputs": [],
   "source": [
    "hostfile=\"\"\n",
    "deepspeed --hostfile=$hostfile fine-tune.py  \\\n",
    "    --report_to \"none\" \\\n",
    "    --data_path \"data/belle_chat_ramdon_10k.json\" \\\n",
    "    --model_name_or_path \"baichuan-inc/Baichuan2-7B-Base\" \\\n",
    "    --output_dir \"output\" \\\n",
    "    --model_max_length 512 \\\n",
    "    --num_train_epochs 4 \\\n",
    "    --per_device_train_batch_size 16 \\\n",
    "    --gradient_accumulation_steps 1 \\\n",
    "    --save_strategy epoch \\\n",
    "    --learning_rate 2e-5 \\\n",
    "    --lr_scheduler_type constant \\\n",
    "    --adam_beta1 0.9 \\\n",
    "    --adam_beta2 0.98 \\\n",
    "    --adam_epsilon 1e-8 \\\n",
    "    --max_grad_norm 1.0 \\\n",
    "    --weight_decay 1e-4 \\\n",
    "    --warmup_ratio 0.0 \\\n",
    "    --logging_steps 1 \\\n",
    "    --gradient_checkpointing True \\\n",
    "    --deepspeed ds_config.json \\\n",
    "    --bf16 True \\\n",
    "    --tf32 True\n"
   ]
  },
  {
   "cell_type": "markdown",
   "metadata": {},
   "source": [
    "### Multi-Machine Training\n",
    "\n",
    "For multi-machine training, provide a hostfile like the following:"
   ]
  },
  {
   "cell_type": "code",
   "execution_count": null,
   "metadata": {},
   "outputs": [],
   "source": [
    "ip1 slots=8\n",
    "ip2 slots=8\n",
    "ip3 slots=8\n",
    "ip4 slots=8\n",
    "...\n",
    "hostfile=\"/path/to/hostfile\"\n",
    "deepspeed --hostfile=$hostfile fine-tune.py  \\\n",
    "    --report_to \"none\" \\\n",
    "    --data_path \"data/belle_chat_ramdon_10k.json\" \\\n",
    "    --model_name_or_path \"baichuan-inc/Baichuan2-7B-Base\" \\\n",
    "    --output_dir \"output\" \\\n",
    "    --model_max_length 512 \\\n",
    "    --num_train_epochs 4 \\\n",
    "    --per_device_train_batch_size 16 \\\n",
    "    --gradient_accumulation_steps 1 \\\n",
    "    --save_strategy epoch \\\n",
    "    --learning_rate 2e-5 \\\n",
    "    --lr_scheduler_type constant \\\n",
    "    --adam_beta1 0.9 \\\n",
    "    --adam_beta2 0.98 \\\n",
    "    --adam_epsilon 1e-8 \\\n",
    "    --max_grad_norm 1.0 \\\n",
    "    --weight_decay 1e-4 \\\n",
    "    --warmup_ratio 0.0 \\\n",
    "    --logging_steps 1 \\\n",
    "    --gradient_checkpointing True \\\n",
    "    --deepspeed ds_config.json \\\n",
    "    --bf16 True \\\n",
    "    --tf32 True\n"
   ]
  },
  {
   "cell_type": "markdown",
   "metadata": {},
   "source": [
    "### Lightweight Fine-Tuning\n",
    "The code already supports lightweight fine-tuning such as LoRA, to use it just add the following parameter to the script above:"
   ]
  },
  {
   "cell_type": "code",
   "execution_count": null,
   "metadata": {},
   "outputs": [],
   "source": [
    "--use_lora True\n",
    "from peft import AutoPeftModelForCausalLM\n",
    "model = AutoPeftModelForCausalLM.from_pretrained(\"output\")\n"
   ]
  }
 ],
 "metadata": {
  "language_info": {
   "name": "python"
  }
 },
 "nbformat": 4,
 "nbformat_minor": 2
}
